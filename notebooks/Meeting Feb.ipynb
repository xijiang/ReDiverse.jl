{
 "cells": [
  {
   "cell_type": "markdown",
   "metadata": {},
   "source": [
    "## Summary\n",
    "- MAF: to be confirmed\n",
    "- HWE: remove loci with 0.15 difference than expected\n",
    "- Using Beagle as the imputation tool\n",
    "- Use Illumina 54K as imputation target\n",
    "- Throw away\n",
    "  - Affy. results\n",
    "  - data from a few non-standard platforms with not many ID\n",
    "- Single step is not used\n",
    "- German pedigree and phenotype descriptions info needed."
   ]
  },
  {
   "cell_type": "markdown",
   "metadata": {},
   "source": [
    "## Data manipulation\n",
    "### General guideline\n",
    "#### QC standard\n",
    "- [ ] quality control\n",
    "  - call rate: 5+% missing rates excluded\n",
    "    - this is on ID\n",
    "    - more missing, lower quality, more error genotypes\n",
    "    - scatter missing rate to confirm\n",
    "  - SNP\n",
    "    - keep call rate >95%\n",
    "  - MAF\n",
    "    - threshold can be 1-2%\n",
    "    - may need test here, as population specific loci may confound with populaiton differences.\n",
    "  - HWE\n",
    "    - $10^{-4}$ \n",
    "\n",
    "#### Format unification\n",
    "- [x] Convert all genotypes to plink format\n",
    "  - Also included the German data\n",
    "- which is easy to convert to VCF format for imputation with `beagle`.\n",
    "\n",
    "#### Imputation\n",
    "- Imputation\n",
    "  - before merge, as different populaitons may not be good references.\n",
    "- Merge\n",
    "\n",
    "### Dutch data\n",
    "- Prepare the maps\n",
    "  - `MRYmap_new.txt` has all the SNP name, chr, and bp\n",
    "  - of version umd3.1\n",
    "- below are shared SNP of other platforms with HD and Illumina 50k-v2(54609), v3(53218)\n",
    "- Illumina 50k v2 shares 50,908 loci, then 46,290 with HD\n",
    "\n",
    "| Platform | $N_{\\textrm{shared SNP}}$ |\n",
    "| --: | --: |\n",
    "| 54,001 | 38,528 |\n",
    "| 52,384 | 8,230 |\n",
    "| 50,905 | 15,688 |\n",
    "| 11,483 | 6,412 |\n",
    "| 10,993 | 6,405 |\n",
    "| 10,690 | 6,341 |\n",
    "| 9,066 | 6,373 |\n",
    "\n",
    "- need one more week to unify the data\n",
    "  - [ ] imputation protocal\n",
    "  - [ ] imputation\n",
    "  - expected QC filtered and imputed data next week\n",
    "\n",
    "### German data\n",
    "- two platforms: v2(69), v3(732)\n",
    "- note: above are the new numbers with German data Apr. 4\n",
    "\n",
    "### Norway data\n",
    "- Exclude affymetrix results\n",
    "- Also illumina 54k v1, v2 and 777k\n",
    "- may need more time"
   ]
  },
  {
   "cell_type": "markdown",
   "metadata": {},
   "source": [
    "## Work plan Feb.\n",
    "- QC\n",
    "  - [x] confirm QC standard, e.g., MAF\n",
    "  - [ ] confirm SNP includes and excludes.\n",
    "- Imputation with `beagle`\n",
    "  - [ ] impute to I-v3?\n",
    "  - [x] exclude 0, MT, X\n",
    "- Phenotype and pedigree\n",
    "- make data ready for ABLUP, and GBLUP\n",
    "  - [x] single-step gblup? **No**"
   ]
  }
 ],
 "metadata": {
  "kernelspec": {
   "display_name": "Julia 1.5.0-DEV",
   "language": "julia",
   "name": "julia-1.5"
  },
  "language_info": {
   "file_extension": ".jl",
   "mimetype": "application/julia",
   "name": "julia",
   "version": "1.5.0"
  }
 },
 "nbformat": 4,
 "nbformat_minor": 4
}
