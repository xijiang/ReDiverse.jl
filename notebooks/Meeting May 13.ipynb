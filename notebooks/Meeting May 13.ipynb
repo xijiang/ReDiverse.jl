{
 "cells": [
  {
   "cell_type": "markdown",
   "metadata": {},
   "source": [
    "# A summary of mid-results\n",
    "## Genotypes roadmap\n",
    "The genotypes I received were stored in `data/genotypes/{dutch,german,norge}`. Then each folder of below:\n",
    "- **Step-1.plk**: Merged final reports to plink.ped, using `Top` fields.\n",
    "  - Chromosome and bp info were also updated with $v_3$.map.\n",
    "  - Used `Top` columns in the final reports.\n",
    "  - `AB` are illegel to beagle.jar\n",
    "  - Don't know if there is a way to convert `AB` to `ACGT`.\n",
    "- **Step-2.plk**: Removed non-autosomal SNP. Only loci on chr 1-29 left, according to $v-3$.map.\n",
    "- **Step-3.plk**: Filtered loci of geno<0.9, maf<0.01, $P_{\\mathrm{hwe}}<10^{-4}$\n",
    "- **Step-4.plk**: Filtered ID with mind<0.95.\n",
    "- **Step-5.plk**: Removed dupicated loci.\n",
    "- **Step-6.plk**: Merged all platforms into 3 country sets.\n",
    "- **Step-7.plk**: Imputed results.\n",
    "- **Step-8.plk**: Remove country specific loci, and ready for $\\mathbf{G}$-matrix."
   ]
  },
  {
   "cell_type": "markdown",
   "metadata": {},
   "source": [
    "# ToDo next week.\n",
    "- [ ] G-matrix calculator\n",
    "- [ ] Verify phenotypes\n",
    "- [ ] First GBLUP results?\n",
    "  - Or, SNP-BLUP?"
   ]
  },
  {
   "cell_type": "markdown",
   "metadata": {},
   "source": [
    "# Norwegian final report data\n",
    "- Received Mon 11 May 2020 12:04:20 PM CEST\n",
    "- md5sum check passed.\n",
    "- [ ] convert to plink format\n",
    "  - this will take a lot of time, as the formats are different for a same platform.\n",
    "  - [ ] $v_1$ data, "
   ]
  }
 ],
 "metadata": {
  "kernelspec": {
   "display_name": "Julia 1.6.0-DEV",
   "language": "julia",
   "name": "julia-1.6"
  },
  "language_info": {
   "file_extension": ".jl",
   "mimetype": "application/julia",
   "name": "julia",
   "version": "1.6.0"
  }
 },
 "nbformat": 4,
 "nbformat_minor": 4
}
