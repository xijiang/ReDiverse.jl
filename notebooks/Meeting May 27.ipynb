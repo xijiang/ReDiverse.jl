{
 "cells": [
  {
   "cell_type": "markdown",
   "metadata": {},
   "source": [
    "# Roadmap\n",
    "- [x] Received Norwegian data in final format on May 11.\n",
    "  - Supposed to finish by May 26.\n",
    "  - I managed to merged them on May 15.\n",
    "    - My text file formatting skills didn't let me down.\n",
    "- [x] Agreed to use `Top` results for later analysis\n",
    "- [x] Nordic_54k.txt ignored.\n",
    "- [x] A few new functions to deal with Norwegian data.\n",
    "  - Deal with the files one by one.\n",
    "  - into `data/genotypes/step-0.plk/norge-vxyy`\n",
    "    - x = 1, 2, 7\n",
    "    - y = 01 ... up to 75\n",
    "  - remove duplicated ID\n",
    "    - For each of the 86 files\n",
    "      - Only keep the `GenofileId` appeared in `idmap_rediverse`.\n",
    "      - Translate `GenofileId` to `GenoId`.\n",
    "      - If `GenoId` appeared more than once, only keep ID lately genotyped.\n",
    "  - Merge to 4 platforms, $v_0, v_1, v_2, v_7$.\n",
    "    - as the two files of said v1 platform have 43180 ($\\to v_0$) or 54001 ($\\to v_1$) loci.\n",
    "  - Apply procedure last week\n",
    "- [x] Make data from all countries ready for G matrix calculation.\n",
    "- [x] Prepare genotypes for multi-breed $\\mathbf{G}$ calculation\n",
    "- [x] Calculate $\\mathbf{G}$ of 3 countries."
   ]
  },
  {
   "cell_type": "markdown",
   "metadata": {},
   "source": [
    "# ID summary\n",
    "## Nordic_54k.txt\n",
    "This file has genotypes 1, 2, 3, and 4. It can't be determined that it used `Top` results. So it is **discarded**. It is a big loss as:\n",
    "- This file has 4422 ID\n",
    "- 52999 SNP\n",
    "  - Not squared, i.e., $n_{\\mathrm{lines}}\\ne n_{\\mathrm{ID}}\\times n_{\\mathrm{SNP}}$, though. "
   ]
  },
  {
   "cell_type": "markdown",
   "metadata": {},
   "source": [
    "## The rest\n",
    "- 8358 genotyped ID\n",
    "- 7416 unique ID\n",
    "  - ID in $v_0$ were all discarded as they were all genotyped later.\n",
    "\n",
    "## The remove procedure\n",
    "- Translate `GenoFileId` to `GenoId`\n",
    "  - ID that are not in `idmap_rediverse` were removed at this step.\n",
    "- Remove dup ID that were genotyped with a low density chip\n",
    "- Remove dup ID that were genotyped earlier."
   ]
  },
  {
   "cell_type": "markdown",
   "metadata": {},
   "source": [
    "# QC plots\n",
    "New genotypes look nicer in the plots below than before\n",
    "\n",
    "## Missing values and HWE\n",
    "![](fig/norge-v1-ms-hwe.png)\n",
    "![](fig/norge-v2-ms-hwe.png)\n",
    "![](fig/norge-v7-ms-hwe.png)"
   ]
  },
  {
   "cell_type": "markdown",
   "metadata": {},
   "source": [
    "## ID missing values\n",
    "![](fig/norge-v1-imiss.png)\n",
    "![](fig/norge-v2-imiss.png)\n",
    "![](fig/norge-v7-imiss.png)"
   ]
  },
  {
   "cell_type": "markdown",
   "metadata": {},
   "source": [
    "# Summary\n",
    "After QC, $N_{\\mathrm{ID}}$ left:\n",
    "- Dutch: 2536\n",
    "- German: 801\n",
    "- Norwegian: 7367\n",
    "\n",
    "After remove country specific SNP:\n",
    "- 44037 SNP available for downstreams"
   ]
  },
  {
   "cell_type": "markdown",
   "metadata": {},
   "source": [
    "## Calculation of GRM\n",
    "![](fig/diag.png)"
   ]
  }
 ],
 "metadata": {
  "kernelspec": {
   "display_name": "Julia 1.6.0-DEV",
   "language": "julia",
   "name": "julia-1.6"
  },
  "language_info": {
   "file_extension": ".jl",
   "mimetype": "application/julia",
   "name": "julia",
   "version": "1.6.0"
  }
 },
 "nbformat": 4,
 "nbformat_minor": 4
}
