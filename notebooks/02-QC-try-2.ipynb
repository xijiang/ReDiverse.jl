{
 "cells": [
  {
   "cell_type": "markdown",
   "metadata": {},
   "source": [
    "# Quality control of filtered genotypes\n",
    "## Data description\n",
    "- Data were filtered according to $\\cap(v_3, \\cup(v_1,v_2,v_7))$, where\n",
    "  - $v_3$ is Illumina 50k v3 platform. Similar are $v_1$, $v_2$\n",
    "  - $v_7$ is the HD platform\n",
    "- Maps were updated according to $v_3$"
   ]
  },
  {
   "cell_type": "markdown",
   "metadata": {},
   "source": [
    "- I suddenly realized that the samples **not** of their original sizes any more.\n",
    "- It is better to merge the samples of similar SNP set sizes\n",
    "- then do the check below\n",
    "- Hence below can be safely **ignored** again. 😭\n",
    "## Summary\n",
    "- Figures are very similar to previous results.\n",
    "- Some somples have too small sizes. Frequency plots gave not much information\n",
    "- With the missing genotype plots\n",
    "  - Some few ID have a lot more missing loci\n",
    "  - Some few loci have a lot more ID missing genotypes on those loci\n",
    "- With the allele frequency plots\n",
    "  - many sample sets have a peak of small MAF loci\n",
    "  - these need to be investigated, as it might reduce the number of SNP for prediction greatly\n",
    "  - or, just check if step-2 filtering results in very reduced SNP set\n",
    "- HW#"
   ]
  },
  {
   "cell_type": "markdown",
   "metadata": {},
   "source": [
    "## Missing values\n",
    "### Dutch data"
   ]
  },
  {
   "cell_type": "markdown",
   "metadata": {},
   "source": [
    "#### 10690\n",
    "![10690](qc2/dutch-10690.png)"
   ]
  },
  {
   "cell_type": "markdown",
   "metadata": {},
   "source": [
    "#### 10993\n",
    "![10993](qc2/dutch-10993.png)"
   ]
  },
  {
   "cell_type": "markdown",
   "metadata": {},
   "source": [
    "#### 11483\n",
    "![11483](qc2/dutch-11483.png)"
   ]
  },
  {
   "cell_type": "markdown",
   "metadata": {},
   "source": [
    "#### 777k\n",
    "![777k](qc2/dutch-777k.png)"
   ]
  },
  {
   "cell_type": "markdown",
   "metadata": {},
   "source": [
    "#### v2\n",
    "![v2](qc2/dutch-v2.png)"
   ]
  },
  {
   "cell_type": "markdown",
   "metadata": {},
   "source": [
    "#### v3\n",
    "![v3](qc2/dutch-v3.png)"
   ]
  },
  {
   "cell_type": "markdown",
   "metadata": {},
   "source": [
    "### German data\n",
    "#### v2\n",
    "![v2](qc2/german-v2.png)"
   ]
  },
  {
   "cell_type": "markdown",
   "metadata": {},
   "source": [
    "#### v3\n",
    "![v3](qc2/german-v3.png)"
   ]
  },
  {
   "cell_type": "markdown",
   "metadata": {},
   "source": [
    "### Norge data\n",
    "#### v1\n",
    "![v1](qc2/norge-v1.png)"
   ]
  },
  {
   "cell_type": "markdown",
   "metadata": {},
   "source": [
    "#### v2\n",
    "![v2](qc2/norge-v2.png)"
   ]
  },
  {
   "cell_type": "markdown",
   "metadata": {},
   "source": [
    "#### 777k\n",
    "![777k](qc2/norge-777k.png)"
   ]
  },
  {
   "cell_type": "markdown",
   "metadata": {},
   "source": [
    "## Frequencies\n",
    "### Dutch data"
   ]
  },
  {
   "cell_type": "markdown",
   "metadata": {},
   "source": [
    "#### 10690\n",
    "<img src=\"qc2/dutch-10690-maf.png\" alt=\"10690\" style=\"width: 400px;\"/>"
   ]
  },
  {
   "cell_type": "markdown",
   "metadata": {},
   "source": [
    "#### 10993\n",
    "<img src=\"qc2/dutch-10993-maf.png\" alt=\"10993\" style=\"width: 400px;\"/>"
   ]
  },
  {
   "cell_type": "markdown",
   "metadata": {},
   "source": [
    "#### 11483\n",
    "<img src=\"qc2/dutch-11483-maf.png\" alt=\"11483\" style=\"width: 400px;\"/>"
   ]
  },
  {
   "cell_type": "markdown",
   "metadata": {},
   "source": [
    "#### 777k\n",
    "<img src=\"qc2/dutch-777k-maf.png\" alt=\"777k\" style=\"width: 400px;\"/>"
   ]
  },
  {
   "cell_type": "markdown",
   "metadata": {},
   "source": [
    "#### v2\n",
    "<img src=\"qc2/dutch-v2-maf.png\" alt=\"v2\" style=\"width: 400px;\"/>"
   ]
  },
  {
   "cell_type": "markdown",
   "metadata": {},
   "source": [
    "#### v3\n",
    "<img src=\"qc2/dutch-v3-maf.png\" alt=\"v3\" style=\"width: 400px;\"/>"
   ]
  },
  {
   "cell_type": "markdown",
   "metadata": {},
   "source": [
    "### German data\n",
    "#### v2\n",
    "<img src=\"qc2/german-v2-maf.png\" alt=\"v2\" style=\"width: 400px;\"/>"
   ]
  },
  {
   "cell_type": "markdown",
   "metadata": {},
   "source": [
    "#### v3\n",
    "<img src=\"qc2/german-v3-maf.png\" alt=\"v3\" style=\"width: 400px;\"/>"
   ]
  },
  {
   "cell_type": "markdown",
   "metadata": {},
   "source": [
    "### Norge data\n",
    "#### v1\n",
    "<img src=\"qc2/norge-v1-maf.png\" alt=\"v1\" style=\"width: 400px;\"/>"
   ]
  },
  {
   "cell_type": "markdown",
   "metadata": {},
   "source": [
    "#### v2\n",
    "<img src=\"qc2/norge-v2-maf.png\" alt=\"v2\" style=\"width: 400px;\"/>"
   ]
  },
  {
   "cell_type": "markdown",
   "metadata": {},
   "source": [
    "#### 777k\n",
    "<img src=\"qc2/norge-777k-maf.png\" alt=\"777k\" style=\"width: 400px;\"/>"
   ]
  }
 ],
 "metadata": {
  "kernelspec": {
   "display_name": "Julia 1.5.0-DEV",
   "language": "julia",
   "name": "julia-1.5"
  },
  "language_info": {
   "file_extension": ".jl",
   "mimetype": "application/julia",
   "name": "julia",
   "version": "1.5.0"
  }
 },
 "nbformat": 4,
 "nbformat_minor": 4
}
