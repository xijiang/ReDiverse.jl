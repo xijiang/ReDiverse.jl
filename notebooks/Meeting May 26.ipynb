{
 "cells": [
  {
   "cell_type": "markdown",
   "metadata": {},
   "source": [
    "# Roadmap\n",
    "- [ ] Received Norwegian data in final format\n",
    "- [ ] Agreed to use `Top` results for later analysis\n",
    "- [ ] Remove duplicate ID not in file `idmap_rediverse`\n",
    "- [ ] 87 files altogether, I clean them one by one.\n",
    "- [ ] $V_1$ data OK.\n",
    "- [ ] $V_2$ has tri-allele problem\n",
    "  - I doubt some file were not of `Top` results\n",
    "  - [ ] Needs further checks.\n",
    "- [ ] Make data from all countries ready for G matrix calculation."
   ]
  }
 ],
 "metadata": {
  "kernelspec": {
   "display_name": "Julia 1.6.0-DEV",
   "language": "julia",
   "name": "julia-1.6"
  },
  "language_info": {
   "file_extension": ".jl",
   "mimetype": "application/julia",
   "name": "julia",
   "version": "1.6.0"
  }
 },
 "nbformat": 4,
 "nbformat_minor": 4
}
