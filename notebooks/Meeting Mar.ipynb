{
 "cells": [
  {
   "cell_type": "markdown",
   "metadata": {},
   "source": [
    "## Quality control actions\n",
    "\n",
    "- In urgent need of German data\n",
    "- Remove non-autosomal loci\n",
    "- Remove ID with more than 10% missing loci\n",
    "- Remove loci of MAF <.0101, default 0.01 is OK.\n",
    "- Remove loci with heterozyges $|O-E|>0.15$, instead of HWE test. Handy with plink\n",
    "\n",
    "```bash\n",
    "## the final consideration\n",
    "final-plink-opts(){\n",
    "    # --geno 0.05: remove loci with 5% missing\n",
    "    # --mind 0.1 for individuals who have more than 10% missing loci\n",
    "    # --maf default 0.01\n",
    "    # --het TO BE INVESTIGATED\n",
    "    # to remove |o-e|>0.15 genotype loci, use --remove opt.\n",
    "    plink --cow \\\n",
    "          --bfile $1 \\\n",
    "          --chr 1-29 \\\n",
    "          --nofounders \\\n",
    "          --mind 0.1 \\\n",
    "          --geno 0.05 \\\n",
    "          --maf \\\n",
    "          --hwe 0.000001 \\\n",
    "          --recode vcf-iid bgz \\\n",
    "          --make-bed \\\n",
    "          --out $1-filtered\n",
    "}\n",
    "```"
   ]
  },
  {
   "cell_type": "markdown",
   "metadata": {},
   "source": [
    "## Phenotypes\n",
    "check german data, sex,  bv, and \n",
    "deregress bv, reliabilities, dyd."
   ]
  }
 ],
 "metadata": {
  "kernelspec": {
   "display_name": "Julia 1.6.0-DEV",
   "language": "julia",
   "name": "julia-1.6"
  },
  "language_info": {
   "file_extension": ".jl",
   "mimetype": "application/julia",
   "name": "julia",
   "version": "1.5.0"
  }
 },
 "nbformat": 4,
 "nbformat_minor": 4
}
