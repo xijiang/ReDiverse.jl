{
 "cells": [
  {
   "cell_type": "markdown",
   "metadata": {},
   "source": [
    "# Roadmap\n",
    "- [x] New plot way of missing values\n",
    "  - So that it is easier to determine which SNP/ID to be filtered away\n",
    "- [x] Check the Norwegian data set.\n",
    "  - Request new data on platform $V_2$\n",
    "- [x] Remove low quality loci\n",
    "  - [x] Also do a brief statistics\n",
    "- [x] Remove low quality ID\n",
    "- [x] Merge above results into new 3-set data for imputation\n",
    "- [x] Remove platform specific SNP again.\n",
    "- [x] Impute for GBLUP\n",
    "  - ? With some forward $R^2$ info about imputation quality\n",
    "\n",
    "## Memo\n",
    "- [ ] Check Norwegian 50k-v2 data.\n",
    "  - I used bed$\\rightarrow$vcf$\\rightarrow$bed to circumvent the problem.\n",
    "  - But obviously something are wrong in the original files."
   ]
  },
  {
   "cell_type": "markdown",
   "metadata": {},
   "source": [
    "# QC with new plots\n",
    "## SNP control\n",
    "### Missing values and Hardy-Weinberg Equillibrium\n",
    "\n",
    "Note I will later call the Dutch LD platform 10690, 10993, 11483 as $dd_{1,2,3}$. Illum. 50kv1, 50kv2, 50kv3, 777k as $v_{1,2,3,7}$ with possible country initials $d,g,n$.\n",
    "\n",
    "![](fig/dutch-d1-ms-hwe.png)"
   ]
  },
  {
   "cell_type": "markdown",
   "metadata": {},
   "source": [
    "![](fig/dutch-d2-ms-hwe.png)"
   ]
  },
  {
   "cell_type": "markdown",
   "metadata": {},
   "source": [
    "![](fig/dutch-d3-ms-hwe.png)"
   ]
  },
  {
   "cell_type": "markdown",
   "metadata": {},
   "source": [
    "![](fig/dutch-v7-ms-hwe.png)"
   ]
  },
  {
   "cell_type": "markdown",
   "metadata": {},
   "source": [
    "![](fig/dutch-v2-ms-hwe.png)"
   ]
  },
  {
   "cell_type": "markdown",
   "metadata": {},
   "source": [
    "![](fig/dutch-v3-ms-hwe.png)"
   ]
  },
  {
   "cell_type": "markdown",
   "metadata": {},
   "source": [
    "![](fig/german-v2-ms-hwe.png)"
   ]
  },
  {
   "cell_type": "markdown",
   "metadata": {},
   "source": [
    "![](fig/german-v3-ms-hwe.png)"
   ]
  },
  {
   "cell_type": "markdown",
   "metadata": {},
   "source": [
    "![](fig/norge-v7-ms-hwe.png)"
   ]
  },
  {
   "cell_type": "markdown",
   "metadata": {},
   "source": [
    "![](fig/norge-v1-ms-hwe.png)"
   ]
  },
  {
   "cell_type": "markdown",
   "metadata": {},
   "source": [
    "![](fig/norge-v2-ms-hwe-old.png)"
   ]
  },
  {
   "cell_type": "markdown",
   "metadata": {},
   "source": [
    "### To circumvent the HWE issue about Norge-V2\n",
    "If I just convert the Norwegian-$V_2$ data in `bed` to `vcf` and back to `bed` again\n",
    "The HWE problem is gone.\n",
    "\n",
    "I will check what went wrong with the original data from GENO."
   ]
  },
  {
   "cell_type": "markdown",
   "metadata": {},
   "source": [
    "![](fig/norge-v2-ms-hwe.png)"
   ]
  },
  {
   "cell_type": "markdown",
   "metadata": {},
   "source": [
    "### HWE again\n",
    "Another way to remove low quality SNP is to let, e.g., $|O_{\\mathrm{HET}} - E_{\\mathrm{HET}}| < 0.15$. \n",
    "This is obviously **not** a good standard to filter loci, especially for datasets with only a few ID. So I ignored this."
   ]
  },
  {
   "cell_type": "markdown",
   "metadata": {},
   "source": [
    "#### Summary\n",
    "There are too many figures, as there are too many platforms. It is now much easier to decide which loci to be excluded.\n",
    "- Above figures used only autosomes\n",
    "- A stats of SNP in the target set.\n",
    "  - meaning there are maximally ~50k loci\n",
    "- I will remove\n",
    "  - loci with 10% missing\n",
    "  - loci with $-\\log_{10}t>4$. where $t$ is the HWE statistic\n",
    "  - cutting off the right tails is similar to using FDR\n",
    "- The Norwegian $V_2$ data has some unkown, so far, problems.\n",
    "- Of $V_1$, 777k from Norway\n",
    "  - 777k data is the best.\n",
    "  - $V_1$ is OK, but of lower quality than other countries\n",
    "- German data came last, but seems to be of best quality.\n",
    "\n",
    "#### Action\n",
    "- [x] I will check Norwegian $V_2$ first\n",
    "  -  problem temporarily circumvented.\n",
    "- More inspection needed."
   ]
  },
  {
   "cell_type": "markdown",
   "metadata": {},
   "source": [
    "### Results - 1\n",
    "- [x] Remove loci of missing rate >0.1%\n",
    "- [x] Remove loci of HWE statistic with P-value <0.0001\n",
    "- [x] Remove loci of MAF$<0.05$.\n",
    "  - Memo $nv_1$: Warning: --hwe observation counts vary by more than 10%.  Consider using --geno, and/or applying different p-value thresholds to distinct subsets of your data.\n",
    "  - In `data/genotypes/flt-snp.plk` run `bash ../../../src/snp-superset.sh` for the statistics.\n",
    "- [x] Find a SNP superset = $\\cap(\\cup(dd_{1,2,3}, dv_{2,3,7}), \\cup(gv_{2,3}), \\cup(nv_{1,2,7}))$\n",
    "- [x] Remove country specific SNP\n",
    "\n",
    "Note above take only a few seconds. So they can be easily changed.\n",
    "\n",
    "### Final number of SNPs\n",
    "\n",
    "| maf | $dd_1$ | $dd_2$ | $dd_3$ | $dv_2$ | $dv_3$ | $dv_7$ | $gv_2$ | $gv_3$ | $nv_1$ | $nv_2$ | $nv_7$ | Total |\n",
    "| --: | --: | --: | --: | --: | --: | --: | --: | --: | --: | --: | --: | --: |\n",
    "| 0.01 | 7041 | 7158 | 7188 | 40795 | 43182 | 36142 | 41923 | 44028 | 31802 | 41091 | 38917 | 44348 |\n",
    "| 0.02 | 7003 | 7102 | 7149 | 39371 | 41455 | 35778 | 40644 | 42493 | 30509 | 39555 | 37564 | 42912 |\n",
    "| 0.05 | 6864 | 6955 | 6985 | 36006 | 37568 | 34397 | 37477 | 39204 | 27826 | 36085 | 34656 | 39754 |\n",
    "\n",
    "Note before:\n",
    "\n",
    "| Target | 50k-V1 | 50k-V2 |    HD | PF-10690 | PF-10993 | PF-11483 |\n",
    "| --: | --: | --: | --: | --: | --: | --: |\n",
    "|  51626 |  47877 |  49465 | 47155 |     7364 |     7438 |     7448 |"
   ]
  },
  {
   "cell_type": "markdown",
   "metadata": {},
   "source": [
    "## ID quality control\n",
    "I temporarily used  previous results with MAF $=0.02$.\n",
    "\n",
    "If to set missing ratio threshold to 0.1:\n",
    "\n",
    "<img src=\"fig/dutch-d1-imiss.png\" style=\"width: 400px;\"/><img src=\"fig/dutch-d2-imiss.png\" style=\"width: 400px;\"/>"
   ]
  },
  {
   "cell_type": "markdown",
   "metadata": {},
   "source": [
    "<img src=\"fig/dutch-d3-imiss.png\" style=\"width: 400px;\"/><img src=\"fig/dutch-v2-imiss.png\" style=\"width: 400px;\"/>"
   ]
  },
  {
   "cell_type": "markdown",
   "metadata": {},
   "source": [
    "<img src=\"fig/dutch-v3-imiss.png\" style=\"width: 400px;\"/><img src=\"fig/dutch-v7-imiss.png\" style=\"width: 400px;\"/>"
   ]
  },
  {
   "cell_type": "markdown",
   "metadata": {},
   "source": [
    "<img src=\"fig/german-v2-imiss.png\" style=\"width: 400px;\"/><img src=\"fig/german-v3-imiss.png\" style=\"width: 400px;\"/>"
   ]
  },
  {
   "cell_type": "markdown",
   "metadata": {},
   "source": [
    "<img src=\"fig/norge-v1-imiss.png\" style=\"width: 400px;\"/><img src=\"fig/norge-v2-imiss.png\" style=\"width: 400px;\"/>"
   ]
  },
  {
   "cell_type": "markdown",
   "metadata": {},
   "source": [
    "<img src=\"fig/norge-v7-imiss.png\" style=\"width: 400px;\"/>"
   ]
  },
  {
   "cell_type": "markdown",
   "metadata": {},
   "source": [
    "### In Summary\n",
    "The affected platforms are:\n",
    "\n",
    "|  | $dd_1$ | $dd_2$ | $dd_3$ | $dv_2$ | $dv_3$ | $dv_7$ | $gv_2$ | $gv_3$ | $nv_1$ | $nv_2$ | $nv_7$ |\n",
    "| -- | --: | --: | --: | --: | --: | --: | --: | --: | --: | --: | --: |\n",
    "| Before | 1994 | 102 | 109 | 343 | 44 | 10 | 69 | 732 | 5664 | 5621 | 2206 | \n",
    "| After | 1888 | - | 107 | 338 | - | - | - | - | 5627 | 5594 | 2192 |\n",
    "\n",
    "Note:\n",
    "- The number of reference in Dutch data is $dv_{2,3,7}$ = 392. 2017 ID genotyped with LD platform are to be imputed. The results **might be ugly**.\n",
    "- I removed country specific SNP at this stage\n",
    "  - 42861 SNP left for downstream\n",
    "- Imputation was based on above set."
   ]
  },
  {
   "cell_type": "markdown",
   "metadata": {},
   "source": [
    "## Considerations\n",
    "- Remove country specific SNP after imputation\n",
    "- Imputation took most of the time in above steps, ca 30-60minutes.\n",
    "- $nv_2$ is a trouble maker.\n",
    "  - Actually none of the 3 file sets, $nv_{1,2,7}$, from Norway can go through `beagle.jar`\n",
    "  - After QC, the missing rate can go up to **>80%** if convert from `bed` to `vcf` again.\n",
    "- Another issue is same SNP on different platforms allele-1 and allele-2\n",
    "  - will they affect genotypes if not unified?\n",
    "  - Unification about these? Any experience?\n",
    "- Going through above pipeline take maximally 1-2hr\n",
    "  - Hence suggestions are very important.\n",
    "  \n",
    "### About the codes\n",
    "- ~2k lines\n",
    "  - many thrown away\n",
    "  - many can be thrown\n",
    "  - many can be reused\n",
    "- ~2h to run to date."
   ]
  }
 ],
 "metadata": {
  "kernelspec": {
   "display_name": "Julia 1.4.0",
   "language": "julia",
   "name": "julia-1.4"
  },
  "language_info": {
   "file_extension": ".jl",
   "mimetype": "application/julia",
   "name": "julia",
   "version": "1.4.0"
  }
 },
 "nbformat": 4,
 "nbformat_minor": 4
}
