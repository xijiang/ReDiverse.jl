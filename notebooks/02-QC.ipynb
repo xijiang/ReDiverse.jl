{
 "cells": [
  {
   "cell_type": "markdown",
   "metadata": {},
   "source": [
    "# Quality control summary\n",
    "## Conclusions and actions\n",
    "- These can be found in the notebook: **Meeting Mar**\n",
    "- Since I\n",
    "  - extracted SNP subset\n",
    "  - updated physical map according to Illumina 50k-v3\n",
    "- Below results can be safely ignored --April 24, 2020\n",
    "\n",
    "## Histograms of missing data"
   ]
  },
  {
   "cell_type": "markdown",
   "metadata": {},
   "source": [
    "### Dutch data\n",
    "#### 10690\n",
    "![Platform 10690](png/dutch-10690.png)\n",
    "#### 10993\n",
    "![Platform 10993](png/dutch-10993.png)\n",
    "#### 11483\n",
    "![Platform 11483](png/dutch-11483.png)\n",
    "#### 777k\n",
    "![Platform 777k](png/dutch-777k.png)\n",
    "#### 50k v2\n",
    "![Platform 50kv2](png/dutch-v2.png)\n",
    "#### 50k v3\n",
    "![Platform 50kv3](png/dutch-v3.png)"
   ]
  },
  {
   "cell_type": "markdown",
   "metadata": {},
   "source": [
    "### German data\n",
    "#### 50k v2\n",
    "![German 50k v2](png/german-v2.png)\n",
    "\n",
    "#### 50k v3\n",
    "![German 50k v3](png/german-v3.png)"
   ]
  },
  {
   "cell_type": "markdown",
   "metadata": {},
   "source": [
    "### Norwegian data\n",
    "#### 777k\n",
    "![Norge 777k](png/norge-777k.png)\n",
    "#### 50k v1\n",
    "![Norge 50k v1](png/norge-v1.png)\n",
    "#### 50k v2\n",
    "![Norge 50k v2](png/norge-v2.png)"
   ]
  },
  {
   "cell_type": "markdown",
   "metadata": {},
   "source": [
    "### Summary\n",
    "- In the above two columns of figures\n",
    "  - The left column holds imissing data. \n",
    "    - These are about the genotyping quality at ID perspective\n",
    "  - The right column holds lmissing data.\n",
    "    - These are about the genotyping quality at locus perspective\n",
    "    "
   ]
  },
  {
   "cell_type": "markdown",
   "metadata": {},
   "source": [
    "## MAF"
   ]
  },
  {
   "cell_type": "markdown",
   "metadata": {},
   "source": [
    "### Dutch data\n",
    "File Edit Options Buffers Tools Help      \n",
    "#### 10690\n",
    "<img src=\"png/dutch-10690-maf.png\" alt=\"10690\" style=\"width: 400px;\"/>\n",
    "#### 10993\n",
    "<img src=\"png/dutch-10993-maf.png\" alt=\"10993\" style=\"width: 400px;\"/>\n",
    "#### 11483\n",
    "<img src=\"png/dutch-11483-maf.png\" alt=\"11483\" style=\"width: 400px;\"/>\n",
    "#### 777k\n",
    "<img src=\"png/dutch-777k-maf.png\" alt=\"777k\" style=\"width: 400px;\"/>\n",
    "#### 50k v2\n",
    "<img src=\"png/dutch-v2-maf.png\" alt=\"v2\" style=\"width: 400px;\"/>\n",
    "#### 50k v3\n",
    "<img src=\"png/dutch-v3-maf.png\" alt=\"v3\" style=\"width: 400px;\"/>"
   ]
  },
  {
   "cell_type": "markdown",
   "metadata": {},
   "source": [
    "### German data\n",
    "#### 50k v2\n",
    "<img src=\"png/german-v2-maf.png\" alt=\"v2\" style=\"width: 400px;\"/>\n",
    "#### 50k v3\n",
    "<img src=\"png/german-v3-maf.png\" alt=\"v3\" style=\"width: 400px;\"/>"
   ]
  },
  {
   "cell_type": "markdown",
   "metadata": {},
   "source": [
    "### Norwegian data\n",
    "#### 777k\n",
    "<img src=\"png/norge-777k-maf.png\" alt=\"777k\" style=\"width: 400px;\"/>\n",
    "#### 50k v1\n",
    "<img src=\"png/norge-v1-maf.png\" alt=\"v1\" style=\"width: 400px;\"/>\n",
    "#### 50k v2\n",
    "<img src=\"png/norge-v2-maf.png\" alt=\"v2\" style=\"width: 400px;\"/>"
   ]
  },
  {
   "cell_type": "markdown",
   "metadata": {},
   "source": [
    "### Summary"
   ]
  }
 ],
 "metadata": {
  "kernelspec": {
   "display_name": "Julia 1.5.0-DEV",
   "language": "julia",
   "name": "julia-1.5"
  },
  "language_info": {
   "file_extension": ".jl",
   "mimetype": "application/julia",
   "name": "julia",
   "version": "1.5.0"
  }
 },
 "nbformat": 4,
 "nbformat_minor": 4
}
