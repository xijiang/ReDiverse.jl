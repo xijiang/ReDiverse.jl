{
 "cells": [
  {
   "cell_type": "markdown",
   "metadata": {},
   "source": [
    "# Roadmap\n",
    "- [x] New plot way of missing values\n",
    "  - So that it is easier to determine which SNP/ID to be filtered away\n",
    "  - This is the main reason to obsolete the previous notebook\n",
    "- [x] Check the Norwegian data set.\n",
    "  - Request new data on platform $V_2$\n",
    "- Below are then just some functions waiting for button pressed\n",
    "- [ ] Remove low quality loci\n",
    "- [ ] Remove low quality ID\n",
    "- [ ] Remove platform specific SNP again.\n",
    "  - or, find the intersection of 3 supersets of 3 countries.\n",
    "- [ ] Merge above results into new 3-set data for imputation\n",
    "- [ ] Impute for GBLUP\n",
    "  - With some forward $R^2$ info about imputation quality"
   ]
  },
  {
   "cell_type": "markdown",
   "metadata": {},
   "source": [
    "# QC with new plots\n",
    "## SNP control\n",
    "### Missing values and Hardy-Weinberg Equillibrium\n",
    "![](fig/dutch-d1-ms-hwe.png)"
   ]
  },
  {
   "cell_type": "markdown",
   "metadata": {},
   "source": [
    "![](fig/dutch-d2-ms-hwe.png)"
   ]
  },
  {
   "cell_type": "markdown",
   "metadata": {},
   "source": [
    "![](fig/dutch-d3-ms-hwe.png)"
   ]
  },
  {
   "cell_type": "markdown",
   "metadata": {},
   "source": [
    "![](fig/dutch-v7-ms-hwe.png)"
   ]
  },
  {
   "cell_type": "markdown",
   "metadata": {},
   "source": [
    "![](fig/dutch-v2-ms-hwe.png)"
   ]
  },
  {
   "cell_type": "markdown",
   "metadata": {},
   "source": [
    "![](fig/dutch-v3-ms-hwe.png)"
   ]
  },
  {
   "cell_type": "markdown",
   "metadata": {},
   "source": [
    "![](fig/german-v2-ms-hwe.png)"
   ]
  },
  {
   "cell_type": "markdown",
   "metadata": {},
   "source": [
    "![](fig/german-v3-ms-hwe.png)"
   ]
  },
  {
   "cell_type": "markdown",
   "metadata": {},
   "source": [
    "![](fig/norge-v7-ms-hwe.png)"
   ]
  },
  {
   "cell_type": "markdown",
   "metadata": {},
   "source": [
    "![](fig/norge-v1-ms-hwe.png)"
   ]
  },
  {
   "cell_type": "markdown",
   "metadata": {},
   "source": [
    "![](fig/norge-v2-ms-hwe.png)"
   ]
  },
  {
   "cell_type": "markdown",
   "metadata": {},
   "source": [
    "Another way to remove low quality SNP is to let $|O_{\\mathrm{HET}} - E_{\\mathrm{HET}}| < 0.15$. I summarized the number of SNP to be removed in the following table:\n",
    "\n",
    "| Threshold | dd1 | dd2 | dd3 | dv2 | dv3 | gv2 | gv3 | nv1 | nv7 | $\\Sigma_{\\mathrm{unique}}$ |\n",
    "| -- | --: | --: | --: | --: | --: | --: | --: | --: | --: | --: |\n"
   ]
  },
  {
   "cell_type": "markdown",
   "metadata": {},
   "source": [
    "#### Summary\n",
    "There are too many figures, as there are too many platforms. It is now much easier to decide which loci to be excluded.\n",
    "- Above figures used only autosomes\n",
    "- A stats of SNP in the target set.\n",
    "  - meaning there are maximally ~50k loci\n",
    "- I will remove\n",
    "  - loci with 10% missing\n",
    "  - loci with $-\\log_{10}t<5$. where $t$ is the HWE statistic\n",
    "  - cutting off the right ends is similar to using FDR\n",
    "- The Norwegian $V_2$ data has a problem.\n",
    "- Of $V_1$, 777k from Norway\n",
    "  - 777k data is the best.\n",
    "  - $V_1$ is OK, but of lower quality than other countries\n",
    "- German data came last, but seems to have best quality.\n",
    "\n",
    "#### Action\n",
    "- [x] I will check Norwegian $V_2$ first\n",
    "  - Looks like some random genotypes\n",
    "  - Requesting new genotypes\n",
    "- Then remove low quality loci.\n",
    "  - platform by platform"
   ]
  },
  {
   "cell_type": "markdown",
   "metadata": {},
   "source": [
    "## Repeat the data merging procedure\n",
    "If I just convert the Norwegian-$V_2$ data \n",
    "- from source, or the file I obtained from Geno\n",
    "- to vcf, only the autosomes\n",
    "- then convert back to bed-files.\n",
    "\n",
    "The HWE problem is gone. Hence I had done something wrong about the data.\n",
    "\n",
    "- [x] I repeat this precedure again."
   ]
  }
 ],
 "metadata": {
  "kernelspec": {
   "display_name": "Julia 1.4.0",
   "language": "julia",
   "name": "julia-1.4"
  },
  "language_info": {
   "file_extension": ".jl",
   "mimetype": "application/julia",
   "name": "julia",
   "version": "1.4.0"
  }
 },
 "nbformat": 4,
 "nbformat_minor": 4
}
