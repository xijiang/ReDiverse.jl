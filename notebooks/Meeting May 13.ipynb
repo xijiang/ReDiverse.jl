{
 "cells": [
  {
   "cell_type": "markdown",
   "metadata": {},
   "source": [
    "# Roadmap\n",
    "- [x] Using AB genotypes\n",
    "  - Only Dutch and German data available. **Norwegian** data missing.\n",
    "- [ ] Require genotypes in `final report` format from GENO\n",
    "- [ ] Run pipeline to imputation, using\n",
    "  - MAF $=0.01$\n",
    "  - $P_{\\mathrm{HWE}}>10^{-4}$\n",
    "  - Allele and ID call rate >90%.\n",
    "- [ ] G-matrix calculator\n",
    "- [ ] Verify phenotypes"
   ]
  },
  {
   "cell_type": "markdown",
   "metadata": {},
   "source": [
    "# Genotypes: using same DNA strand designation\n",
    "\n",
    "- Do I have to use AB genotypes\n"
   ]
  }
 ],
 "metadata": {
  "kernelspec": {
   "display_name": "Julia 1.6.0-DEV",
   "language": "julia",
   "name": "julia-1.6"
  },
  "language_info": {
   "file_extension": ".jl",
   "mimetype": "application/julia",
   "name": "julia",
   "version": "1.6.0"
  }
 },
 "nbformat": 4,
 "nbformat_minor": 4
}
