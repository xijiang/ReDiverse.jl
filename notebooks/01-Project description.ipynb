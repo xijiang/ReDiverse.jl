{
 "cells": [
  {
   "cell_type": "markdown",
   "metadata": {},
   "source": [
    "# The Rediverse Project\n",
    "## Time line\n",
    "| Task | Start month | End month | WP/Task title |\n",
    "| :--: | :--: | :--: | --|\n",
    "| | 1 | 36 | Genomic selection strategies |\n",
    "| 1 | 1 | 24 | Investigate GP models for small breeds |\n",
    "| 2 | 19 | 30 | Population parameters related to GD & GI |\n",
    "| 3 | 1 | 30 | Identification of reference data for GP |\n",
    "| 4 | 25 | 36 | Application and validation of new tools |\n",
    "\n",
    "ERDB: European Red Dairy Breeds\n",
    "\n",
    "GD: genetic diversity\n",
    "\n",
    "GP: genomic prediction\n",
    "\n",
    "BP: breeding programs\n",
    "\n",
    "GS: genomic selection\n"
   ]
  },
  {
   "cell_type": "markdown",
   "metadata": {},
   "source": [
    "## Objectives\n",
    "The overall objective of WP6 is to improve genomic prediction (GP) methods for across breed evaluation and for heterogeneous populations, while maintaining genetic diversity (GD). Specifically, knowledge will be developed and provided on accurate and efficient GP methods which contribute to setting up or improving routine genomic breeding evaluations. WP6 is linked to WPs 1,\n",
    "2, 4 and 7. In total, this work package will improve the competitiveness of numerically small ERDB by developing strategies to optimise the use of available data and possibly newly generated data for those numerically smaller breeds."
   ]
  },
  {
   "cell_type": "markdown",
   "metadata": {},
   "source": [
    "## Description\n",
    "Not all breeds involved in REDIVERSE are numerically large enough or lack the financial resources to establish a sufficiently large breed-specific reference population that enables GP with a competitive level of prediction accuracy. Especially for small breeds the number of bulls with daughter based breeding values to be included in the reference population is often limiting. This limitation can be relaxed by adding cows of the same breed to the reference population, or by adding bulls and cows from a different but related breed.\n",
    "\n",
    "If cows are included in the reference population then the model used for genomic evaluation needs to account for the lower accuracy of their phenotypes and in particular for heterogeneous error variances. Cows included in the reference population provide less information than bulls and preselection of cows for genotyping may further reduce the benefit achievable from adding cows.\n",
    "\n",
    "The second approach is to add animals from a different but related breed. A model for multi-breed genomic evaluation ideally accounts for the different LD between marker and QTL in the different breeds. Both solutions increase the heterogeneity of the phenotypes and genotypes used in the analyses.\n",
    "\n",
    "This WP will develop procedures and tools to design reference populations that optimally use this kind of heterogeneous data in GP. The developed tools will also be useful for breeds which are not involved in REDIVERSE."
   ]
  },
  {
   "cell_type": "markdown",
   "metadata": {},
   "source": [
    "### WP6.1\n",
    "The specific challenge for GP models for ERDB, is that the reference population used will be heterogeneous. This heterogeneity will originate from at least three different sources:\n",
    "\n",
    "1. using cows next to daughter proven bulls,\n",
    "2. the expectation that cow data from numerically smaller (and alternative) breeds is likely to come from a more diverse group of farms, and\n",
    "3. using phenotypic and genotypic data from other breeds. This task will investigate how these different sources of heterogeneity should be accommodated for in the optimal GP model for the different ERDB.\n",
    "\n",
    "In addition, alternative variable selection models (e.g. BayesC and BayesR), either in combination with or without a GBLUP term, will be investigated for their ability to use across breed data. \n",
    "\n",
    "Outcome: Description of optimal GP model for different (combinations of) ERDB.\n"
   ]
  },
  {
   "cell_type": "markdown",
   "metadata": {},
   "source": [
    "### WP6.2\n",
    "\n",
    "This task will estimate population parameters from numerically small ERDB related to GD that are also informative to predict expected accuracies of GP. These parameters include the effective population size ($N_e$) of each of the breeds involved, and the effective number of chromosome segments ($M_e$) for each of the breeds, as well as between each pairwise combination of breeds.\n",
    "\n",
    "Outcome:\n",
    "\n",
    "The estimated $N_e$ will provide insight into the GD status of each of the breeds involved. The estimated $M_e$ will enable to predict the expected accuracy of GP within each of the breeds, but also the expected accuracy of any possible combination of different breeds in the reference population.\n"
   ]
  },
  {
   "cell_type": "markdown",
   "metadata": {},
   "source": [
    "### WP6.3\n",
    "\n",
    "This task will develop criteria that will help to identify – specifically for different breeds – which reference data will be useful to improve its GP accuracy. This task will build on Task 6.2 by using the $M_e$ values that are estimated there.\n",
    "\n",
    "Outcome:\n",
    "\n",
    "Guidelines for each of the ERDB involved in ReDiverse, with regard to which other ERDB breeds should be included in its reference population."
   ]
  },
  {
   "cell_type": "markdown",
   "metadata": {},
   "source": [
    "### WP6.4\n",
    "\n",
    "This task will validate all the developed tools and models by application to several of the ERDB, by comparing predicted GP accuracies to empirical accuracies that will be computed from analyses on actual genomic and phenotypic data of ERDB.\n",
    "\n",
    "Outcome:\n",
    "\n",
    "Assessment of the added value of the developed tools and procedures to improve GP for at least some of the ERDB breeds."
   ]
  },
  {
   "cell_type": "markdown",
   "metadata": {},
   "source": [
    "## Expected impact, including european added value\n",
    "\n",
    "WP6 will develop strategies that enable to optimally use the available data or generate new data to design reference populations that enable efficient genomic prediction in smaller ERDB. As a result, this WP will improve the competitiveness of small ERDB, compared to e.g. the mainstream Holstein breed. This will improve the economic perspectives for farmers to use ERDB on their farms, and thereby the long-term perspectives of ERDB. Developed strategies within WP6 will be demonstrated for the ERDB, but will be applicable to other breeds as well."
   ]
  }
 ],
 "metadata": {
  "kernelspec": {
   "display_name": "Julia 1.5.0-DEV",
   "language": "julia",
   "name": "julia-1.5"
  },
  "language_info": {
   "file_extension": ".jl",
   "mimetype": "application/julia",
   "name": "julia",
   "version": "1.5.0"
  }
 },
 "nbformat": 4,
 "nbformat_minor": 4
}
